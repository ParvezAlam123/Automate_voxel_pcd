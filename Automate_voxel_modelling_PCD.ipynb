{
 "cells": [
  {
   "cell_type": "code",
   "execution_count": 4,
   "id": "3ca202c1",
   "metadata": {},
   "outputs": [],
   "source": [
    "import laspy as lp\n",
    "import open3d as o3d\n",
    "import numpy as np \n",
    "import os\n"
   ]
  },
  {
   "cell_type": "code",
   "execution_count": 5,
   "id": "0e1b85b2",
   "metadata": {},
   "outputs": [],
   "source": [
    "input_path = os.getcwd()\n",
    "dataname = '2021_heerlen_table.las'\n"
   ]
  },
  {
   "cell_type": "code",
   "execution_count": 8,
   "id": "c9112f31",
   "metadata": {},
   "outputs": [],
   "source": [
    "point_cloud=lp.read(os.path.join(input_path, dataname))"
   ]
  },
  {
   "cell_type": "code",
   "execution_count": 10,
   "id": "9a752ca6",
   "metadata": {},
   "outputs": [],
   "source": [
    "pcd = o3d.geometry.PointCloud()\n",
    "pcd.points = o3d.utility.Vector3dVector(np.vstack((point_cloud.x, point_cloud.y, point_cloud.z)).transpose())\n",
    "pcd.colors = o3d.utility.Vector3dVector(np.vstack((point_cloud.red, point_cloud.green, point_cloud.blue)).transpose()/65535)"
   ]
  },
  {
   "cell_type": "code",
   "execution_count": 19,
   "id": "11f79ddb",
   "metadata": {},
   "outputs": [],
   "source": [
    "v_size=round(max(pcd.get_max_bound()-pcd.get_min_bound())*0.005,4)\n",
    "voxel_grid=o3d.geometry.VoxelGrid.create_from_point_cloud(pcd,voxel_size=v_size)"
   ]
  },
  {
   "cell_type": "code",
   "execution_count": 21,
   "id": "0ef3bfe3",
   "metadata": {},
   "outputs": [],
   "source": [
    "o3d.visualization.draw_geometries([voxel_grid])"
   ]
  },
  {
   "cell_type": "code",
   "execution_count": 22,
   "id": "f715383c",
   "metadata": {},
   "outputs": [],
   "source": [
    "voxels=voxel_grid.get_voxels()"
   ]
  },
  {
   "cell_type": "code",
   "execution_count": 26,
   "id": "61e05dbc",
   "metadata": {},
   "outputs": [],
   "source": [
    "vox_mesh=o3d.geometry.TriangleMesh()"
   ]
  },
  {
   "cell_type": "code",
   "execution_count": 27,
   "id": "35f79aa0",
   "metadata": {},
   "outputs": [],
   "source": [
    "for v in voxels:\n",
    "    cube=o3d.geometry.TriangleMesh.create_box(width=1, height=1,\n",
    "    depth=1)\n",
    "    cube.paint_uniform_color(v.color)\n",
    "    cube.translate(v.grid_index, relative=False)\n",
    "    vox_mesh+=cube"
   ]
  },
  {
   "cell_type": "code",
   "execution_count": 28,
   "id": "8f3000e8",
   "metadata": {},
   "outputs": [
    {
     "data": {
      "text/plain": [
       "TriangleMesh with 228829 points and 1409988 triangles."
      ]
     },
     "execution_count": 28,
     "metadata": {},
     "output_type": "execute_result"
    }
   ],
   "source": [
    "vox_mesh.merge_close_vertices(0.0000001)"
   ]
  },
  {
   "cell_type": "code",
   "execution_count": null,
   "id": "2ce9a4cd",
   "metadata": {},
   "outputs": [],
   "source": []
  }
 ],
 "metadata": {
  "kernelspec": {
   "display_name": "Python 3 (ipykernel)",
   "language": "python",
   "name": "python3"
  },
  "language_info": {
   "codemirror_mode": {
    "name": "ipython",
    "version": 3
   },
   "file_extension": ".py",
   "mimetype": "text/x-python",
   "name": "python",
   "nbconvert_exporter": "python",
   "pygments_lexer": "ipython3",
   "version": "3.8.10"
  }
 },
 "nbformat": 4,
 "nbformat_minor": 5
}
